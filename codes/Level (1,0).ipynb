{
 "cells": [
  {
   "cell_type": "code",
   "execution_count": 2,
   "id": "342d106d-095d-4751-a43e-b2d88b673912",
   "metadata": {
    "tags": []
   },
   "outputs": [],
   "source": [
    "def post_process(ex):\n",
    "    collect_terms(ex)\n",
    "    #substitute(ex, simprl)"
   ]
  },
  {
   "cell_type": "code",
   "execution_count": 3,
   "id": "f3626083-61d9-4f5c-930b-96c758c2ea25",
   "metadata": {},
   "outputs": [],
   "source": [
    "{\\mu, \\nu, \\rho, \\sigma}::Integer(0..d-1).\n",
    "{\\mu, \\nu, \\rho, \\sigma}::Indices(position=free).\n",
    "{m, n}::Integer.\n",
    "{m, n}::Symbol.\n",
    "i::ImaginaryI."
   ]
  },
  {
   "cell_type": "code",
   "execution_count": 4,
   "id": "530081fa-73e4-4209-99c8-8dfc8db7f855",
   "metadata": {},
   "outputs": [],
   "source": [
    "# Defining the operators\n",
    "\n",
    "\\alphap::LaTeXForm(\"\\alpha'\").\n",
    "\\vac::LaTeXForm(\"| k, \\downarrow \\downarrow \\rangle\").\n",
    "\\bravac::LaTeXForm(\"\\langle - k, \\downarrow \\downarrow |\").\n",
    "\\cp::LaTeXForm(\"c_0^+\").\n",
    "\\cs::LaTeXForm(\"c_0^-\").\n",
    "\\bp::LaTeXForm(\"b_0^+\").\n",
    "\\bs::LaTeXForm(\"b_0^-\")."
   ]
  },
  {
   "cell_type": "code",
   "execution_count": 5,
   "id": "05a02119-3646-4f93-80e1-f23c276ab52a",
   "metadata": {},
   "outputs": [],
   "source": [
    "# Self-commutations relations (\\beta stands for \\bar{alpha}, d stands for \\bar{b} and f stands for \\bar{c})\n",
    "\n",
    "\\alpha_{n}^{\\mu}::SelfNonCommuting.\n",
    "\\beta_{n}^{\\mu}::SelfNonCommuting.\n",
    "b_{n}::SelfAntiCommuting.\n",
    "c_{n}::SelfAntiCommuting.\n",
    "d_{n}::SelfAntiCommuting.\n",
    "f_{n}::SelfAntiCommuting.\n",
    "\\cp::SelfAntiCommuting.\n",
    "\\cs::SelfAntiCommuting.\n",
    "\\bp::SelfAntiCommuting.\n",
    "\\bs::SelfAntiCommuting.\n"
   ]
  },
  {
   "cell_type": "code",
   "execution_count": 6,
   "id": "3c1eb7df-d9db-4f7f-a24f-3aae589553c6",
   "metadata": {},
   "outputs": [],
   "source": [
    "#Non commutation of operators and vacuum\n",
    "\n",
    "{\\alpha_{n}^{\\mu}, \\vac}::NonCommuting.\n",
    "{\\beta_{n}^{\\mu}, \\vac}::NonCommuting.\n",
    "{b_{n}, \\vac}::NonCommuting.\n",
    "{c_{n}, \\vac}::NonCommuting.\n",
    "{d_{n}, \\vac}::NonCommuting.\n",
    "{f_{n}, \\vac}::NonCommuting.\n",
    "{\\cs, \\vac}::NonCommuting.\n",
    "{\\bs, \\vac}::NonCommuting.\n",
    "{\\bp, \\vac}::NonCommuting.\n",
    "{\\cp, \\vac}::NonCommuting.\n",
    "\n",
    "{\\alpha_{n}^{\\mu}, \\bravac}::NonCommuting.\n",
    "{\\beta_{n}^{\\mu}, \\bravac}::NonCommuting.\n",
    "{b_{n}, \\bravac}::NonCommuting.\n",
    "{c_{n}, \\bravac}::NonCommuting.\n",
    "{d_{n}, \\bravac}::NonCommuting.\n",
    "{f_{n}, \\bravac}::NonCommuting.\n",
    "{\\cs, \\bravac}::NonCommuting.\n",
    "{\\bs, \\bravac}::NonCommuting.\n",
    "{\\bp, \\bravac}::NonCommuting.\n",
    "{\\cp, \\bravac}::NonCommuting."
   ]
  },
  {
   "cell_type": "code",
   "execution_count": 7,
   "id": "a5207fc8-5392-4320-b95a-c4121a63db72",
   "metadata": {},
   "outputs": [],
   "source": [
    "# Commutation relations\n",
    "\n",
    "{b_{n}, c_{n}}::NonCommuting.\n",
    "{b_{n}, f_{n}}::AntiCommuting.\n",
    "{d_{n}, f_{n}}::NonCommuting.\n",
    "{d_{n}, c_{n}}::AntiCommuting.\n",
    "\n",
    "{b_{n}, d_{n}}::AntiCommuting.\n",
    "{c_{n}, f_{n}}::AntiCommuting.\n",
    "\n",
    "{d_{n}, \\cp}::AntiCommuting.\n",
    "{d_{n}, \\cs}::AntiCommuting.\n",
    "{d_{n}, \\bp}::AntiCommuting.\n",
    "{d_{n}, \\bs}::AntiCommuting.\n",
    "\n",
    "{f_{n}, \\cp}::AntiCommuting.\n",
    "{f_{n}, \\cs}::AntiCommuting.\n",
    "{f_{n}, \\bp}::AntiCommuting.\n",
    "{f_{n}, \\bs}::AntiCommuting.\n",
    "\n",
    "{\\bs, \\cs}::NonCommuting.\n",
    "{\\bp, \\cp}::NonCommuting.\n",
    "\n",
    "{b_{n}, \\cp}::AntiCommuting.\n",
    "{b_{n}, \\cs}::AntiCommuting.\n",
    "{b_{n}, \\bp}::AntiCommuting.\n",
    "{b_{n}, \\bs}::AntiCommuting.\n",
    "\n",
    "{\\cp, c_{n}}::AntiCommuting.\n",
    "{\\cs, c_{n}}::AntiCommuting.\n",
    "{\\bp, c_{n}}::AntiCommuting.\n",
    "{\\bs, c_{n}}::AntiCommuting.\n",
    "\n",
    "{\\cp,\\cs}::AntiCommuting.\n",
    "{\\bp,\\bs}::AntiCommuting.\n",
    "{\\cp,\\bs}::AntiCommuting.\n",
    "{\\bp,\\cs}::AntiCommuting.\n",
    "\n",
    "{\\alpha_{n}^{\\mu}, c_{n}}::Commuting.\n",
    "{\\alpha_{n}^{\\mu}, b_{n}}::Commuting.\n",
    "{\\alpha_{n}^{\\mu}, f_{n}}::Commuting.\n",
    "{\\alpha_{n}^{\\mu}, d_{n}}::Commuting.\n",
    "\n",
    "{\\alpha_{n}^{\\mu}, \\cp}::Commuting.\n",
    "{\\alpha_{n}^{\\mu}, \\cs}::Commuting.\n",
    "{\\alpha_{n}^{\\mu}, \\bp}::Commuting.\n",
    "{\\alpha_{n}^{\\mu}, \\bs}::Commuting.\n",
    "\n",
    "{\\beta_{n}^{\\mu}, c_{n}}::Commuting.\n",
    "{\\beta_{n}^{\\mu}, b_{n}}::Commuting.\n",
    "{\\beta_{n}^{\\mu}, f_{n}}::Commuting.\n",
    "{\\beta_{n}^{\\mu}, d_{n}}::Commuting.\n",
    "\n",
    "{\\beta_{n}^{\\mu}, \\cp}::Commuting.\n",
    "{\\beta_{n}^{\\mu}, \\cs}::Commuting.\n",
    "{\\beta_{n}^{\\mu}, \\bp}::Commuting.\n",
    "{\\beta_{n}^{\\mu}, \\bs}::Commuting.\n",
    "\n",
    "{\\alpha_{n}^{\\mu},\\beta_{n}^{\\mu}}::Commuting."
   ]
  },
  {
   "cell_type": "code",
   "execution_count": 8,
   "id": "35fd3ccf-06a6-4d1a-8217-14018ffa5961",
   "metadata": {},
   "outputs": [],
   "source": [
    "\\delta{#}::KroneckerDelta."
   ]
  },
  {
   "cell_type": "code",
   "execution_count": 9,
   "id": "2c04740c-2769-499f-b619-5fdcf07bc25b",
   "metadata": {},
   "outputs": [
    {
     "data": {
      "text/markdown": [
       "${}\\text{Property SortOrder attached to}\\left[i, T, F_{\\mu}, \\alpha', \\sqrt{\\frac{1}{2}\\alpha'}, k^{\\mu}, {k}^{2}, \\langle - k, \\downarrow \\downarrow |, \\alpha_{-1}\\,^{\\mu}, \\beta_{-1}\\,^{\\mu}, d_{-1}, f_{-1}, b_{-1}, c_{-1}, c_0^-, c_0^+, \\alpha_{1}\\,^{\\mu}, \\beta_{1}\\,^{\\mu}, d_{1}, f_{1}, b_{1}, c_{1}, b_0^+, b_0^-, | k, \\downarrow \\downarrow \\rangle\\right].$"
      ]
     },
     "metadata": {},
     "output_type": "display_data"
    }
   ],
   "source": [
    "# Defining the order of the terms in which we want the final expression\n",
    "\n",
    "{i, T, F_{\\mu}, \\alphap, \\sqrt{\\alphap / 2}, k^{\\mu}, k**2, \\bravac, \\alpha_{-1}^{\\mu}, \\beta_{-1}^{\\mu}, d_{-1}, f_{-1}, b_{-1}, c_{-1}, \\cs, \\cp, \\alpha_{1}^{\\mu}, \\beta_{1}^{\\mu}, d_{1}, f_{1}, b_{1}, c_{1}, \\bp, \\bs, \\vac}::SortOrder;\n",
    "\n",
    "\n"
   ]
  },
  {
   "cell_type": "code",
   "execution_count": 10,
   "id": "282236d3-a562-4732-b4f1-841e90f097c5",
   "metadata": {},
   "outputs": [
    {
     "data": {
      "text/markdown": [
       "${}\\left[\\alpha_{m}\\,^{\\mu} \\alpha_{n}\\,^{\\nu}\\quad\\text{with}\\quad{}m > n \\rightarrow \\alpha_{n}\\,^{\\nu} \\alpha_{m}\\,^{\\mu}+m \\delta_{m -n} \\delta^{\\mu \\nu}, \\beta_{m}\\,^{\\mu} \\beta_{n}\\,^{\\nu}\\quad\\text{with}\\quad{}m > n \\rightarrow \\beta_{n}\\,^{\\nu} \\beta_{m}\\,^{\\mu}+m \\delta_{m -n} \\delta^{\\mu \\nu}, b_{m} c_{n}\\quad\\text{with}\\quad{}m > n \\rightarrow -c_{n} b_{m}+\\delta_{m -n}, c_{m} b_{n}\\quad\\text{with}\\quad{}m > n \\rightarrow -b_{n} c_{m}+\\delta_{m -n}, d_{m} f_{n}\\quad\\text{with}\\quad{}m > n \\rightarrow -f_{n} d_{m}+\\delta_{m -n}, f_{m} d_{n}\\quad\\text{with}\\quad{}m > n \\rightarrow -d_{n} f_{m}+\\delta_{m -n}, b_0^- c_0^- \\rightarrow -c_0^- b_0^-+1, b_0^+ c_0^+ \\rightarrow -c_0^+ b_0^++1, \\alpha_{0}\\,^{\\mu} \\rightarrow \\sqrt{\\frac{1}{2}\\alpha'} p^{\\mu}, \\beta_{0}\\,^{\\mu} \\rightarrow \\sqrt{\\frac{1}{2}\\alpha'} p^{\\mu}, p^{\\mu} | k, \\downarrow \\downarrow \\rangle \\rightarrow k^{\\mu} | k, \\downarrow \\downarrow \\rangle, \\alpha_{m}\\,^{\\mu} | k, \\downarrow \\downarrow \\rangle\\quad\\text{with}\\quad{}m > 0 \\rightarrow 0, \\beta_{m}\\,^{\\mu} | k, \\downarrow \\downarrow \\rangle\\quad\\text{with}\\quad{}m > 0 \\rightarrow 0, b_0^- | k, \\downarrow \\downarrow \\rangle \\rightarrow 0, b_0^+ | k, \\downarrow \\downarrow \\rangle \\rightarrow 0, b_{m} | k, \\downarrow \\downarrow \\rangle\\quad\\text{with}\\quad{}m > 0 \\rightarrow 0, d_{m} | k, \\downarrow \\downarrow \\rangle\\quad\\text{with}\\quad{}m > 0 \\rightarrow 0, c_{m} | k, \\downarrow \\downarrow \\rangle\\quad\\text{with}\\quad{}m > 0 \\rightarrow 0, f_{m} | k, \\downarrow \\downarrow \\rangle\\quad\\text{with}\\quad{}m > 0 \\rightarrow 0, k_{\\mu} k^{\\mu} \\rightarrow {k}^{2}, \\langle - k, \\downarrow \\downarrow | c_0^- c_0^+ | k, \\downarrow \\downarrow \\rangle \\rightarrow \\frac{1}{2}\\right]$"
      ]
     },
     "metadata": {},
     "output_type": "display_data"
    }
   ],
   "source": [
    "# Replacement rules\n",
    "\n",
    "oprl := {\n",
    "\\alpha_{m}^{\\mu} \\alpha_{n}^{\\nu} | m > n\n",
    "-> \\alpha_{n}^{\\nu} \\alpha_{m}^{\\mu} +  m\\delta_{m}_{-n} \\delta^{\\mu\\nu},\n",
    "\\beta_{m}^{\\mu} \\beta_{n}^{\\nu} | m > n\n",
    "-> \\beta_{n}^{\\nu} \\beta_{m}^{\\mu} + m \\delta_{m}_{-n} \\delta^{\\mu\\nu},\n",
    "b_{m} c_{n} | m > n\n",
    "-> - c_{n} b_{m} + \\delta_{m}_{-n},\n",
    "c_{m} b_{n} | m > n\n",
    "-> - b_{n} c_{m} + \\delta_{m}_{-n},\n",
    "d_{m} f_{n} | m > n\n",
    "-> - f_{n} d_{m} + \\delta_{m}_{-n},\n",
    "f_{m} d_{n} | m > n\n",
    "-> - d_{n} f_{m} + \\delta_{m}_{-n},\n",
    "\\bs \\cs \n",
    "-> - \\cs \\bs+ 1,\n",
    "\\bp \\cp \n",
    "-> - \\cp \\bp+ 1,\n",
    "\\alpha_{0}^{\\mu}\n",
    "-> \\sqrt{\\alphap / 2} p^{\\mu},\n",
    "\\beta_{0}^{\\mu}\n",
    "-> \\sqrt{\\alphap / 2} p^{\\mu},\n",
    "p^{\\mu} \\vac\n",
    "-> k^{\\mu} \\vac,\n",
    "\\alpha_{m}^{\\mu} \\vac | m > 0\n",
    "-> 0,\n",
    "\\beta_{m}^{\\mu} \\vac | m > 0\n",
    "-> 0,\n",
    "\\bs \\vac\n",
    "-> 0,\n",
    "\\bp \\vac\n",
    "-> 0,\n",
    "b_{m} \\vac | m > 0\n",
    "-> 0,\n",
    "d_{m} \\vac| m > 0\n",
    "-> 0,\n",
    "c_{m} \\vac | m > 0\n",
    "-> 0,\n",
    "f_{m} \\vac | m > 0\n",
    "-> 0,\n",
    "\n",
    "k_{\\mu} k^{\\mu}\n",
    "-> k**2,\n",
    "\\bravac \\cs \\cp \\vac\n",
    "-> \\frac{1}{2}\n",
    "};"
   ]
  },
  {
   "cell_type": "code",
   "execution_count": 11,
   "id": "60637f51-67e2-43e9-af53-bfd34c33bdad",
   "metadata": {},
   "outputs": [
    {
     "data": {
      "text/markdown": [
       "${}\\left[\\alpha_{n}\\,^{\\mu} \\rightarrow -\\alpha_{-n}\\,^{\\mu}, c_{n} \\rightarrow -c_{-n}, b_{n} \\rightarrow b_{-n}, c_0^+ \\rightarrow -c_0^+, c_0^- \\rightarrow -c_0^-, | k, \\downarrow \\downarrow \\rangle \\rightarrow 1, A?\\left(k\\right) \\rightarrow A?\\left(-k\\right), A?_{\\mu}\\left(k\\right) \\rightarrow A?_{\\mu}\\left(-k\\right), A?_{\\mu \\nu}\\left(k\\right) \\rightarrow A?_{\\mu \\nu}\\left(-k\\right)\\right]$"
      ]
     },
     "metadata": {},
     "output_type": "display_data"
    }
   ],
   "source": [
    "# BPZ conjugation definition\n",
    "\n",
    "bpzrl := {\n",
    "\\alpha_{n}^{\\mu} -> - \\alpha_{-n}^{\\mu},\n",
    "c_{n} -> - c_{-n},\n",
    "b_{n} -> b_{-n},\n",
    "\\cp -> - \\cp,\n",
    "\\cs -> - \\cs,\n",
    "\\vac -> 1,\n",
    "A?(k) -> A?(-k),\n",
    "A?_{\\mu}(k) -> A?_{\\mu}(-k),\n",
    "A?_{\\mu\\nu}(k) -> A?_{\\mu\\nu}(-k)\n",
    "};\n"
   ]
  },
  {
   "cell_type": "code",
   "execution_count": 12,
   "id": "fed3b95c-6eea-4325-aa1e-cbbda8024f5f",
   "metadata": {},
   "outputs": [],
   "source": [
    "def bpz(ex):\n",
    "    distribute(ex)\n",
    "    substitute(ex, bpzrl)\n",
    "    sort_product(ex)\n",
    "    return ex"
   ]
  },
  {
   "cell_type": "code",
   "execution_count": 13,
   "id": "ad03a323-0ed7-4dec-ad6a-7a0a60b38cf9",
   "metadata": {},
   "outputs": [
    {
     "data": {
      "text/markdown": [
       "${}\\sqrt{\\frac{1}{2}\\alpha'} k_{\\mu} \\alpha_{-1}\\,^{\\mu}$"
      ]
     },
     "metadata": {},
     "output_type": "display_data"
    },
    {
     "data": {
      "text/markdown": [
       "${}\\sqrt{\\frac{1}{2}\\alpha'} k_{\\mu} \\alpha_{1}\\,^{\\mu}$"
      ]
     },
     "metadata": {},
     "output_type": "display_data"
    },
    {
     "data": {
      "text/markdown": [
       "${}\\sqrt{\\frac{1}{2}\\alpha'} k_{\\mu} \\beta_{-1}\\,^{\\mu}$"
      ]
     },
     "metadata": {},
     "output_type": "display_data"
    },
    {
     "data": {
      "text/markdown": [
       "${}\\sqrt{\\frac{1}{2}\\alpha'} k_{\\mu} \\beta_{1}\\,^{\\mu}$"
      ]
     },
     "metadata": {},
     "output_type": "display_data"
    },
    {
     "data": {
      "text/markdown": [
       "${}\\frac{1}{2}\\alpha' k_{\\mu} k^{\\mu}-1$"
      ]
     },
     "metadata": {},
     "output_type": "display_data"
    },
    {
     "data": {
      "text/markdown": [
       "${}1$"
      ]
     },
     "metadata": {},
     "output_type": "display_data"
    }
   ],
   "source": [
    "#Virasoro generators definition\n",
    "\n",
    "Lm1 := \\sqrt{\\alphap / 2} k_{\\mu} \\alpha_{-1}^{\\mu};\n",
    "Lp1 := \\sqrt{\\alphap / 2} k_{\\mu} \\alpha_{1}^{\\mu};\n",
    "Lbm1:= \\sqrt{\\alphap / 2} k_{\\mu} \\beta_{-1}^{\\mu};\n",
    "Lbp1:= \\sqrt{\\alphap / 2} k_{\\mu} \\beta_{1}^{\\mu};\n",
    "L0p := \\frac{\\alphap}{2} k_{\\mu} k^{\\mu} - 1;\n",
    "L0m := 1;"
   ]
  },
  {
   "cell_type": "code",
   "execution_count": 14,
   "id": "f59791f2-ad5f-43d6-bca4-fea28cf3ed57",
   "metadata": {},
   "outputs": [
    {
     "data": {
      "text/markdown": [
       "${}c_{-1} c_{1}+f_{-1} f_{1}$"
      ]
     },
     "metadata": {},
     "output_type": "display_data"
    },
    {
     "data": {
      "text/markdown": [
       "${}c_{-1} c_{1}-f_{-1} f_{1}$"
      ]
     },
     "metadata": {},
     "output_type": "display_data"
    },
    {
     "data": {
      "text/markdown": [
       "${}c_{-1} \\sqrt{\\frac{1}{2}\\alpha'} k_{\\mu} \\alpha_{1}\\,^{\\mu}+c_{1} \\sqrt{\\frac{1}{2}\\alpha'} k_{\\mu} \\alpha_{-1}\\,^{\\mu}+f_{-1} \\sqrt{\\frac{1}{2}\\alpha'} k_{\\mu} \\beta_{1}\\,^{\\mu}+f_{1} \\sqrt{\\frac{1}{2}\\alpha'} k_{\\mu} \\beta_{-1}\\,^{\\mu}$"
      ]
     },
     "metadata": {},
     "output_type": "display_data"
    },
    {
     "data": {
      "text/markdown": [
       "${}c_0^-+c_0^+ \\left(\\frac{1}{2}\\alpha' k_{\\mu} k^{\\mu}-1\\right)-b_0^+ \\left(c_{-1} c_{1}+f_{-1} f_{1}\\right)-b_0^- \\left(c_{-1} c_{1}-f_{-1} f_{1}\\right)+c_{-1} \\sqrt{\\frac{1}{2}\\alpha'} k_{\\mu} \\alpha_{1}\\,^{\\mu}+c_{1} \\sqrt{\\frac{1}{2}\\alpha'} k_{\\mu} \\alpha_{-1}\\,^{\\mu}+f_{-1} \\sqrt{\\frac{1}{2}\\alpha'} k_{\\mu} \\beta_{1}\\,^{\\mu}+f_{1} \\sqrt{\\frac{1}{2}\\alpha'} k_{\\mu} \\beta_{-1}\\,^{\\mu}$"
      ]
     },
     "metadata": {},
     "output_type": "display_data"
    }
   ],
   "source": [
    "# BRST charge definition\n",
    "\n",
    "Mp := c_{-1} c_{1} + f_{-1} f_{1};\n",
    "Ms := c_{-1} c_{1} - f_{-1} f_{1};\n",
    "Qh := c_{-1} @{Lp1} + c_{1} @{Lm1}+ f_{-1} @{Lbp1} + f_{1} @{Lbm1};\n",
    "Q := \\cs @{L0m} +\\cp @{L0p} - \\bp @{Mp} - \\bs @{Ms} + @{Qh};"
   ]
  },
  {
   "cell_type": "code",
   "execution_count": 15,
   "id": "1b080bb1-6391-4657-a0c7-4dfa4f9553c4",
   "metadata": {},
   "outputs": [],
   "source": [
    "# definition of act different because with the previous one, converge() would mysteriously loop forever.\n",
    "def act(ex):\n",
    "    tempex = 0\n",
    "    while (tempex != ex):\n",
    "        tempex := @(ex).\n",
    "        distribute(ex)\n",
    "        substitute(ex, oprl)\n",
    "        distribute(ex)\n",
    "        eliminate_kronecker(ex)\n",
    "        rename_dummies(ex)\n",
    "        sort_product(ex)\n",
    "        \n",
    "    return ex"
   ]
  },
  {
   "cell_type": "code",
   "execution_count": 16,
   "id": "fa6eb45a-c746-4d80-b7b9-fffac1727cc5",
   "metadata": {},
   "outputs": [
    {
     "data": {
      "text/markdown": [
       "${}\\left(B\\left(k\\right) c_0^- b_{-1}+C\\left(k\\right) c_0^+ b_{-1}+i D_{\\mu}\\left(k\\right) \\alpha_{-1}\\,^{\\mu}\\right) | k, \\downarrow \\downarrow \\rangle$"
      ]
     },
     "metadata": {},
     "output_type": "display_data"
    },
    {
     "data": {
      "text/markdown": [
       "${}\\left(E\\left(k\\right) c_0^- c_0^+ b_{-1}+J\\left(k\\right) c_{-1}+i F_{\\mu}\\left(k\\right) c_0^- \\alpha_{-1}\\,^{\\mu}+i H_{\\mu}\\left(k\\right) c_0^+ \\alpha_{-1}\\,^{\\mu}\\right) | k, \\downarrow \\downarrow \\rangle$"
      ]
     },
     "metadata": {},
     "output_type": "display_data"
    }
   ],
   "source": [
    "#Definition of fields Psi and \\tilde{Psi}\n",
    "\n",
    "Psi10 := (B(k)\\cs b_{-1} +C(k)\\cp b_{-1} +i D_{\\mu}(k)\\alpha_{-1}^{\\mu}) \\vac;\n",
    "Psit10 := ( E(k) \\cs \\cp b_{-1}+  J(k)c_{-1}+ i F_{\\mu}(k) \\cs \\alpha_{-1}^{\\mu} + i H_{\\mu}(k) \\cp \\alpha_{-1}^{\\mu} )\\vac;"
   ]
  },
  {
   "cell_type": "code",
   "execution_count": 17,
   "id": "afb8d46f-f4cc-439f-a3ba-82e17a260006",
   "metadata": {},
   "outputs": [
    {
     "data": {
      "text/markdown": [
       "${}-J\\left(k\\right) c_{-1} c_0^- | k, \\downarrow \\downarrow \\rangle+H_{\\mu}\\left(k\\right) i \\alpha_{-1}\\,^{\\mu} c_0^- c_0^+ | k, \\downarrow \\downarrow \\rangle - \\frac{1}{2}J\\left(k\\right) \\alpha' {k}^{2} c_{-1} c_0^+ | k, \\downarrow \\downarrow \\rangle - \\frac{1}{2}F_{\\mu}\\left(k\\right) i \\alpha' {k}^{2} \\alpha_{-1}\\,^{\\mu} c_0^- c_0^+ | k, \\downarrow \\downarrow \\rangle+J\\left(k\\right) c_{-1} c_0^+ | k, \\downarrow \\downarrow \\rangle+F_{\\mu}\\left(k\\right) i \\alpha_{-1}\\,^{\\mu} c_0^- c_0^+ | k, \\downarrow \\downarrow \\rangle-E\\left(k\\right) c_{-1} c_0^- | k, \\downarrow \\downarrow \\rangle+E\\left(k\\right) c_{-1} c_0^+ | k, \\downarrow \\downarrow \\rangle+F_{\\mu}\\left(k\\right) i \\sqrt{\\frac{1}{2}\\alpha'} k^{\\mu} c_{-1} c_0^- | k, \\downarrow \\downarrow \\rangle+H_{\\mu}\\left(k\\right) i \\sqrt{\\frac{1}{2}\\alpha'} k^{\\mu} c_{-1} c_0^+ | k, \\downarrow \\downarrow \\rangle+E\\left(k\\right) \\sqrt{\\frac{1}{2}\\alpha'} k_{\\mu} \\alpha_{-1}\\,^{\\mu} c_0^- c_0^+ | k, \\downarrow \\downarrow \\rangle$"
      ]
     },
     "metadata": {},
     "output_type": "display_data"
    }
   ],
   "source": [
    "# Equations of motion of auxiliary\n",
    "\n",
    "Eom10t := @{Q} @{Psit10}.\n",
    "act(Eom10t);"
   ]
  },
  {
   "cell_type": "code",
   "execution_count": 18,
   "id": "1cd5e885-9e8e-4cf5-9c66-682113cd088e",
   "metadata": {},
   "outputs": [
    {
     "data": {
      "text/markdown": [
       "${}b\\left(k\\right) b_{-1} | k, \\downarrow \\downarrow \\rangle$"
      ]
     },
     "metadata": {},
     "output_type": "display_data"
    },
    {
     "data": {
      "text/markdown": [
       "${}\\left(c\\left(k\\right) c_0^+ b_{-1}+d\\left(k\\right) c_0^- b_{-1}+i e_{\\mu}\\left(k\\right) \\alpha_{-1}\\,^{\\mu}\\right) | k, \\downarrow \\downarrow \\rangle$"
      ]
     },
     "metadata": {},
     "output_type": "display_data"
    }
   ],
   "source": [
    "#Definition of gauge parameters\n",
    "\n",
    "Lambda10 := (b(k) b_{-1}) \\vac;\n",
    "Lambdat10 := ( c(k)  \\cp b_{-1}+  d(k) \\cs b_{-1} + i e_{\\mu}(k) \\alpha_{-1}^{\\mu})\\vac;"
   ]
  },
  {
   "cell_type": "code",
   "execution_count": 19,
   "id": "cd47c525-e4b4-4478-b4dd-02ca4b8a34c9",
   "metadata": {},
   "outputs": [
    {
     "data": {
      "text/markdown": [
       "${}-B\\left(-k\\right) \\langle - k, \\downarrow \\downarrow | c_0^- b_{1}-C\\left(-k\\right) \\langle - k, \\downarrow \\downarrow | c_0^+ b_{1}-D_{\\mu}\\left(-k\\right) i \\langle - k, \\downarrow \\downarrow | \\alpha_{1}\\,^{\\mu}$"
      ]
     },
     "metadata": {},
     "output_type": "display_data"
    },
    {
     "data": {
      "text/markdown": [
       "${}E\\left(-k\\right) \\langle - k, \\downarrow \\downarrow | c_0^- c_0^+ b_{1}-J\\left(-k\\right) \\langle - k, \\downarrow \\downarrow | c_{1}+F_{\\mu}\\left(-k\\right) i \\langle - k, \\downarrow \\downarrow | c_0^- \\alpha_{1}\\,^{\\mu}+H_{\\mu}\\left(-k\\right) i \\langle - k, \\downarrow \\downarrow | c_0^+ \\alpha_{1}\\,^{\\mu}$"
      ]
     },
     "metadata": {},
     "output_type": "display_data"
    }
   ],
   "source": [
    "#BPZ of the string fields\n",
    "\n",
    "Psi10bra := \\bravac @{Psi10}.\n",
    "bpz(Psi10bra);\n",
    "Psit10bra := \\bravac @{Psit10}.\n",
    "bpz(Psit10bra);"
   ]
  },
  {
   "cell_type": "code",
   "execution_count": 20,
   "id": "6ae6fd0e-d94a-4f2b-860f-be473d4cde99",
   "metadata": {},
   "outputs": [
    {
     "data": {
      "text/markdown": [
       "${}b_{-1} c_0^- c_0^+ | k, \\downarrow \\downarrow \\rangle \\left(C\\left(k\\right) - \\frac{1}{2}B\\left(k\\right) \\alpha' {k}^{2}+B\\left(k\\right)\\right)+\\alpha_{-1}\\,^{\\mu} c_0^- | k, \\downarrow \\downarrow \\rangle \\left(D_{\\mu}\\left(k\\right) i-B\\left(k\\right) \\sqrt{\\frac{1}{2}\\alpha'} k_{\\mu}\\right)+\\alpha_{-1}\\,^{\\mu} c_0^+ | k, \\downarrow \\downarrow \\rangle \\left(\\frac{1}{2}D_{\\mu}\\left(k\\right) i \\alpha' {k}^{2}-D_{\\mu}\\left(k\\right) i-C\\left(k\\right) \\sqrt{\\frac{1}{2}\\alpha'} k_{\\mu}\\right)+c_{-1} | k, \\downarrow \\downarrow \\rangle \\left(-C\\left(k\\right)-B\\left(k\\right)+D_{\\mu}\\left(k\\right) i \\sqrt{\\frac{1}{2}\\alpha'} k^{\\mu}\\right)$"
      ]
     },
     "metadata": {},
     "output_type": "display_data"
    }
   ],
   "source": [
    "# Equations of motion\n",
    "\n",
    "Eom10 := @{Q} @{Psi10}.\n",
    "act(Eom10)\n",
    "factor_out(Eom10,$ b_{-1},c_{-1}, \\alpha_{-1}^{\\mu}, \\cs, \\cp, \\vac$,);"
   ]
  },
  {
   "cell_type": "code",
   "execution_count": 21,
   "id": "1a91dfe1-e36e-4905-b2e9-5bb4732b50e9",
   "metadata": {},
   "outputs": [],
   "source": [
    "#Action:\n",
    "action10 :=  @{Psit10bra} @{Q} @{Psi10}.\n",
    "act(action10)\n",
    "factor_out(_,$E(-k), J(-k), F^{\\mu}(-k), H^{\\mu}(-k)$,);"
   ]
  },
  {
   "cell_type": "code",
   "execution_count": 22,
   "id": "dd21f3f5-8541-4f5b-a758-12bc9bd5fa8a",
   "metadata": {},
   "outputs": [
    {
     "data": {
      "text/markdown": [
       "${}b_{-1} c_0^- c_0^+ | k, \\downarrow \\downarrow \\rangle \\left(c\\left(k\\right) - \\frac{1}{2}\\alpha' {k}^{2} d\\left(k\\right)+d\\left(k\\right)\\right)+i \\alpha_{-1}\\,^{\\mu} c_0^- | k, \\downarrow \\downarrow \\rangle e_{\\mu}\\left(k\\right)+i \\alpha_{-1}\\,^{\\mu} c_0^+ | k, \\downarrow \\downarrow \\rangle \\left(\\frac{1}{2}\\alpha' {k}^{2} e_{\\mu}\\left(k\\right)-e_{\\mu}\\left(k\\right)\\right)+c_{-1} | k, \\downarrow \\downarrow \\rangle \\left(-c\\left(k\\right)-d\\left(k\\right)\\right)+i c_{-1} | k, \\downarrow \\downarrow \\rangle \\sqrt{\\frac{1}{2}\\alpha'} k^{\\mu} e_{\\mu}\\left(k\\right)-\\alpha_{-1}\\,^{\\mu} c_0^+ | k, \\downarrow \\downarrow \\rangle \\sqrt{\\frac{1}{2}\\alpha'} k_{\\mu} c\\left(k\\right)-\\alpha_{-1}\\,^{\\mu} c_0^- | k, \\downarrow \\downarrow \\rangle \\sqrt{\\frac{1}{2}\\alpha'} k_{\\mu} d\\left(k\\right)$"
      ]
     },
     "metadata": {},
     "output_type": "display_data"
    }
   ],
   "source": [
    "#Gauge invariance\n",
    "\n",
    "QLambda10 := @{Q} @{Lambda10}.\n",
    "act(QLambda10);\n",
    "QLambdat10 := @{Q} @{Lambdat10}.\n",
    "act(QLambdat10)\n",
    "factor_out(QLambdat10, $\\cp, \\cs, b_{-1}, c_{-1}, \\alpha_{-1}^{\\mu}, i, x(k), \\vac$);"
   ]
  },
  {
   "cell_type": "code",
   "execution_count": 23,
   "id": "3b93e916-a7bb-4c7a-85ba-4fcb384c3bb9",
   "metadata": {},
   "outputs": [
    {
     "data": {
      "text/markdown": [
       "${}c_{-1} c_0^- | k, \\downarrow \\downarrow \\rangle \\left(-J\\left(k\\right)-E\\left(k\\right)+F_{\\mu}\\left(k\\right) i \\sqrt{\\frac{1}{2}\\alpha'} k^{\\mu}\\right)+\\alpha_{-1}\\,^{\\mu} c_0^- c_0^+ | k, \\downarrow \\downarrow \\rangle \\left(H_{\\mu}\\left(k\\right) i - \\frac{1}{2}F_{\\mu}\\left(k\\right) i \\alpha' {k}^{2}+F_{\\mu}\\left(k\\right) i+E\\left(k\\right) \\sqrt{\\frac{1}{2}\\alpha'} k_{\\mu}\\right)+c_{-1} c_0^+ | k, \\downarrow \\downarrow \\rangle \\left( - \\frac{1}{2}J\\left(k\\right) \\alpha' {k}^{2}+J\\left(k\\right)+E\\left(k\\right)+H_{\\mu}\\left(k\\right) i \\sqrt{\\frac{1}{2}\\alpha'} k^{\\mu}\\right)$"
      ]
     },
     "metadata": {},
     "output_type": "display_data"
    }
   ],
   "source": [
    "# Equations of motion of auxiliary\n",
    "\n",
    "Eomt10 := @{Q} {Psit1@0}.\n",
    "act(Eomt10)\n",
    "factor_out(Eomt10,$ b_{-1},c_{-1}, \\alpha_{-1}^{\\mu}, \\cs, \\cp, \\vac$,);"
   ]
  },
  {
   "cell_type": "code",
   "execution_count": null,
   "id": "a439c53e-f92d-49d1-9d16-f070baf5ce5a",
   "metadata": {},
   "outputs": [],
   "source": []
  }
 ],
 "metadata": {
  "kernelspec": {
   "display_name": "Cadabra2",
   "language": "python",
   "name": "cadabra2"
  },
  "language_info": {
   "codemirror_mode": "cadabra",
   "file_extension": ".ipynb",
   "mimetype": "text/cadabra",
   "name": "cadabra2",
   "pygments_lexer": "cadabra"
  },
  "toc-showmarkdowntxt": false
 },
 "nbformat": 4,
 "nbformat_minor": 5
}
