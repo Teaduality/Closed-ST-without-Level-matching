{
 "cells": [
  {
   "cell_type": "code",
   "execution_count": 1,
   "id": "342d106d-095d-4751-a43e-b2d88b673912",
   "metadata": {
    "tags": []
   },
   "outputs": [],
   "source": [
    "def post_process(ex):\n",
    "    collect_terms(ex)\n",
    "    #substitute(ex, simprl)"
   ]
  },
  {
   "cell_type": "code",
   "execution_count": 2,
   "id": "f3626083-61d9-4f5c-930b-96c758c2ea25",
   "metadata": {},
   "outputs": [],
   "source": [
    "{\\mu, \\nu, \\rho, \\sigma, \\lambda}::Integer(0..d-1).\n",
    "{\\mu, \\nu, \\rho, \\sigma, \\lambda}::Indices(position=free).\n",
    "{m, n}::Integer.\n",
    "{m, n}::Symbol.\n",
    "i::ImaginaryI."
   ]
  },
  {
   "cell_type": "code",
   "execution_count": 3,
   "id": "530081fa-73e4-4209-99c8-8dfc8db7f855",
   "metadata": {},
   "outputs": [],
   "source": [
    "# Defining the operators\n",
    "\n",
    "\\alphap::LaTeXForm(\"\\alpha'\").\n",
    "\\vac::LaTeXForm(\"| k, \\downarrow \\downarrow \\rangle\").\n",
    "\\bravac::LaTeXForm(\"\\langle - k, \\downarrow \\downarrow |\").\n",
    "\\cp::LaTeXForm(\"c_0^+\").\n",
    "\\cs::LaTeXForm(\"c_0^-\").\n",
    "\\bp::LaTeXForm(\"b_0^+\").\n",
    "\\bs::LaTeXForm(\"b_0^-\")."
   ]
  },
  {
   "cell_type": "code",
   "execution_count": 4,
   "id": "05a02119-3646-4f93-80e1-f23c276ab52a",
   "metadata": {},
   "outputs": [],
   "source": [
    "# Self-commutations relations (\\beta stands for \\bar{alpha}, d stands for \\bar{b} and f stands for \\bar{c})\n",
    "\n",
    "\\alpha_{n}^{\\mu}::SelfNonCommuting.\n",
    "\\beta_{n}^{\\mu}::SelfNonCommuting.\n",
    "b_{n}::SelfAntiCommuting.\n",
    "c_{n}::SelfAntiCommuting.\n",
    "d_{n}::SelfAntiCommuting.\n",
    "f_{n}::SelfAntiCommuting.\n",
    "\\cp::SelfAntiCommuting.\n",
    "\\cs::SelfAntiCommuting.\n",
    "\\bp::SelfAntiCommuting.\n",
    "\\bs::SelfAntiCommuting.\n"
   ]
  },
  {
   "cell_type": "code",
   "execution_count": 5,
   "id": "3c1eb7df-d9db-4f7f-a24f-3aae589553c6",
   "metadata": {},
   "outputs": [],
   "source": [
    "#Non commutation of operators and vacuum\n",
    "\n",
    "{\\alpha_{n}^{\\mu}, \\vac}::NonCommuting.\n",
    "{\\beta_{n}^{\\mu}, \\vac}::NonCommuting.\n",
    "{b_{n}, \\vac}::NonCommuting.\n",
    "{c_{n}, \\vac}::NonCommuting.\n",
    "{d_{n}, \\vac}::NonCommuting.\n",
    "{f_{n}, \\vac}::NonCommuting.\n",
    "{\\cs, \\vac}::NonCommuting.\n",
    "{\\bs, \\vac}::NonCommuting.\n",
    "{\\bp, \\vac}::NonCommuting.\n",
    "{\\cp, \\vac}::NonCommuting.\n",
    "\n",
    "{\\alpha_{n}^{\\mu}, \\bravac}::NonCommuting.\n",
    "{\\beta_{n}^{\\mu}, \\bravac}::NonCommuting.\n",
    "{b_{n}, \\bravac}::NonCommuting.\n",
    "{c_{n}, \\bravac}::NonCommuting.\n",
    "{d_{n}, \\bravac}::NonCommuting.\n",
    "{f_{n}, \\bravac}::NonCommuting.\n",
    "{\\cs, \\bravac}::NonCommuting.\n",
    "{\\bs, \\bravac}::NonCommuting.\n",
    "{\\bp, \\bravac}::NonCommuting.\n",
    "{\\cp, \\bravac}::NonCommuting."
   ]
  },
  {
   "cell_type": "code",
   "execution_count": 6,
   "id": "a5207fc8-5392-4320-b95a-c4121a63db72",
   "metadata": {},
   "outputs": [],
   "source": [
    "# Commutation relations\n",
    "\n",
    "{b_{n}, c_{n}}::NonCommuting.\n",
    "{b_{n}, f_{n}}::AntiCommuting.\n",
    "{d_{n}, f_{n}}::NonCommuting.\n",
    "{d_{n}, c_{n}}::AntiCommuting.\n",
    "\n",
    "{b_{n}, d_{n}}::AntiCommuting.\n",
    "{c_{n}, f_{n}}::AntiCommuting.\n",
    "\n",
    "{d_{n}, \\cp}::AntiCommuting.\n",
    "{d_{n}, \\cs}::AntiCommuting.\n",
    "{d_{n}, \\bp}::AntiCommuting.\n",
    "{d_{n}, \\bs}::AntiCommuting.\n",
    "\n",
    "{f_{n}, \\cp}::AntiCommuting.\n",
    "{f_{n}, \\cs}::AntiCommuting.\n",
    "{f_{n}, \\bp}::AntiCommuting.\n",
    "{f_{n}, \\bs}::AntiCommuting.\n",
    "\n",
    "{\\bs, \\cs}::NonCommuting.\n",
    "{\\bp, \\cp}::NonCommuting.\n",
    "\n",
    "{b_{n}, \\cp}::AntiCommuting.\n",
    "{b_{n}, \\cs}::AntiCommuting.\n",
    "{b_{n}, \\bp}::AntiCommuting.\n",
    "{b_{n}, \\bs}::AntiCommuting.\n",
    "\n",
    "{\\cp, c_{n}}::AntiCommuting.\n",
    "{\\cs, c_{n}}::AntiCommuting.\n",
    "{\\bp, c_{n}}::AntiCommuting.\n",
    "{\\bs, c_{n}}::AntiCommuting.\n",
    "\n",
    "{\\cp,\\cs}::AntiCommuting.\n",
    "{\\bp,\\bs}::AntiCommuting.\n",
    "{\\cp,\\bs}::AntiCommuting.\n",
    "{\\bp,\\cs}::AntiCommuting.\n",
    "\n",
    "{\\alpha_{n}^{\\mu}, c_{n}}::Commuting.\n",
    "{\\alpha_{n}^{\\mu}, b_{n}}::Commuting.\n",
    "{\\alpha_{n}^{\\mu}, f_{n}}::Commuting.\n",
    "{\\alpha_{n}^{\\mu}, d_{n}}::Commuting.\n",
    "\n",
    "{\\alpha_{n}^{\\mu}, \\cp}::Commuting.\n",
    "{\\alpha_{n}^{\\mu}, \\cs}::Commuting.\n",
    "{\\alpha_{n}^{\\mu}, \\bp}::Commuting.\n",
    "{\\alpha_{n}^{\\mu}, \\bs}::Commuting.\n",
    "\n",
    "{\\beta_{n}^{\\mu}, c_{n}}::Commuting.\n",
    "{\\beta_{n}^{\\mu}, b_{n}}::Commuting.\n",
    "{\\beta_{n}^{\\mu}, f_{n}}::Commuting.\n",
    "{\\beta_{n}^{\\mu}, d_{n}}::Commuting.\n",
    "\n",
    "{\\beta_{n}^{\\mu}, \\cp}::Commuting.\n",
    "{\\beta_{n}^{\\mu}, \\cs}::Commuting.\n",
    "{\\beta_{n}^{\\mu}, \\bp}::Commuting.\n",
    "{\\beta_{n}^{\\mu}, \\bs}::Commuting.\n",
    "\n",
    "{\\alpha_{n}^{\\mu},\\beta_{n}^{\\mu}}::Commuting."
   ]
  },
  {
   "cell_type": "code",
   "execution_count": 7,
   "id": "35fd3ccf-06a6-4d1a-8217-14018ffa5961",
   "metadata": {},
   "outputs": [],
   "source": [
    "\\delta{#}::KroneckerDelta."
   ]
  },
  {
   "cell_type": "code",
   "execution_count": 8,
   "id": "2c04740c-2769-499f-b619-5fdcf07bc25b",
   "metadata": {},
   "outputs": [
    {
     "data": {
      "text/markdown": [
       "${}\\text{Property SortOrder attached to}\\left[i, T, F_{\\mu}, \\alpha', \\sqrt{\\frac{1}{2}\\alpha'}, k^{\\mu}, {k}^{2}, \\langle - k, \\downarrow \\downarrow |, \\alpha_{-2}\\,^{\\mu}, \\beta_{-2}\\,^{\\mu}, \\alpha_{-1}\\,^{\\mu}, \\beta_{-1}\\,^{\\mu}, d_{-2}, f_{-2}, b_{-2}, c_{-2}, d_{-1}, f_{-1}, b_{-1}, c_{-1}, c_0^-, c_0^+, \\alpha_{1}\\,^{\\mu}, \\beta_{1}\\,^{\\mu}, \\alpha_{2}\\,^{\\mu}, \\beta_{2}\\,^{\\mu}, d_{1}, f_{1}, b_{1}, c_{1}, d_{2}, f_{2}, b_{2}, c_{2}, b_0^+, b_0^-, | k, \\downarrow \\downarrow \\rangle\\right].$"
      ]
     },
     "metadata": {},
     "output_type": "display_data"
    }
   ],
   "source": [
    "# Defining the order of the terms in which we want the final expression\n",
    "\n",
    "{i, T, F_{\\mu}, \\alphap, \\sqrt{\\alphap / 2}, k^{\\mu}, k**2, \\bravac, \\alpha_{-2}^{\\mu}, \\beta_{-2}^{\\mu}, \\alpha_{-1}^{\\mu}, \\beta_{-1}^{\\mu}, d_{-2}, f_{-2}, b_{-2}, c_{-2}, d_{-1}, f_{-1}, b_{-1}, c_{-1}, \\cs, \\cp, \\alpha_{1}^{\\mu}, \\beta_{1}^{\\mu}, \\alpha_{2}^{\\mu}, \\beta_{2}^{\\mu}, d_{1}, f_{1}, b_{1}, c_{1}, d_{2}, f_{2}, b_{2}, c_{2}, \\bp, \\bs, \\vac}::SortOrder;\n",
    "\n",
    "\n"
   ]
  },
  {
   "cell_type": "code",
   "execution_count": 9,
   "id": "282236d3-a562-4732-b4f1-841e90f097c5",
   "metadata": {},
   "outputs": [
    {
     "data": {
      "text/markdown": [
       "${}\\left[\\alpha_{m}\\,^{\\mu} \\alpha_{n}\\,^{\\nu}\\quad\\text{with}\\quad{}m > n \\rightarrow \\alpha_{n}\\,^{\\nu} \\alpha_{m}\\,^{\\mu}+m \\delta_{m -n} \\delta^{\\mu \\nu}, \\beta_{m}\\,^{\\mu} \\beta_{n}\\,^{\\nu}\\quad\\text{with}\\quad{}m > n \\rightarrow \\beta_{n}\\,^{\\nu} \\beta_{m}\\,^{\\mu}+m \\delta_{m -n} \\delta^{\\mu \\nu}, b_{m} c_{n}\\quad\\text{with}\\quad{}m > n \\rightarrow -c_{n} b_{m}+\\delta_{m -n}, c_{m} b_{n}\\quad\\text{with}\\quad{}m > n \\rightarrow -b_{n} c_{m}+\\delta_{m -n}, d_{m} f_{n}\\quad\\text{with}\\quad{}m > n \\rightarrow -f_{n} d_{m}+\\delta_{m -n}, f_{m} d_{n}\\quad\\text{with}\\quad{}m > n \\rightarrow -d_{n} f_{m}+\\delta_{m -n}, b_0^- c_0^- \\rightarrow -c_0^- b_0^-+1, b_0^+ c_0^+ \\rightarrow -c_0^+ b_0^++1, \\alpha_{0}\\,^{\\mu} \\rightarrow \\sqrt{\\frac{1}{2}\\alpha'} p^{\\mu}, \\beta_{0}\\,^{\\mu} \\rightarrow \\sqrt{\\frac{1}{2}\\alpha'} p^{\\mu}, p^{\\mu} | k, \\downarrow \\downarrow \\rangle \\rightarrow k^{\\mu} | k, \\downarrow \\downarrow \\rangle, \\alpha_{m}\\,^{\\mu} | k, \\downarrow \\downarrow \\rangle\\quad\\text{with}\\quad{}m > 0 \\rightarrow 0, \\beta_{m}\\,^{\\mu} | k, \\downarrow \\downarrow \\rangle\\quad\\text{with}\\quad{}m > 0 \\rightarrow 0, b_0^- | k, \\downarrow \\downarrow \\rangle \\rightarrow 0, b_0^+ | k, \\downarrow \\downarrow \\rangle \\rightarrow 0, b_{m} | k, \\downarrow \\downarrow \\rangle\\quad\\text{with}\\quad{}m > 0 \\rightarrow 0, d_{m} | k, \\downarrow \\downarrow \\rangle\\quad\\text{with}\\quad{}m > 0 \\rightarrow 0, c_{m} | k, \\downarrow \\downarrow \\rangle\\quad\\text{with}\\quad{}m > 0 \\rightarrow 0, f_{m} | k, \\downarrow \\downarrow \\rangle\\quad\\text{with}\\quad{}m > 0 \\rightarrow 0, k_{\\mu} k^{\\mu} \\rightarrow {k}^{2}, \\langle - k, \\downarrow \\downarrow | c_0^- c_0^+ | k, \\downarrow \\downarrow \\rangle \\rightarrow \\frac{1}{2}\\right]$"
      ]
     },
     "metadata": {},
     "output_type": "display_data"
    }
   ],
   "source": [
    "# Replacement rules\n",
    "\n",
    "oprl := {\n",
    "\\alpha_{m}^{\\mu} \\alpha_{n}^{\\nu} | m > n\n",
    "-> \\alpha_{n}^{\\nu} \\alpha_{m}^{\\mu} +  m\\delta_{m}_{-n} \\delta^{\\mu\\nu},\n",
    "\\beta_{m}^{\\mu} \\beta_{n}^{\\nu} | m > n\n",
    "-> \\beta_{n}^{\\nu} \\beta_{m}^{\\mu} + m \\delta_{m}_{-n} \\delta^{\\mu\\nu},\n",
    "b_{m} c_{n} | m > n\n",
    "-> - c_{n} b_{m} + \\delta_{m}_{-n},\n",
    "c_{m} b_{n} | m > n\n",
    "-> - b_{n} c_{m} + \\delta_{m}_{-n},\n",
    "d_{m} f_{n} | m > n\n",
    "-> - f_{n} d_{m} + \\delta_{m}_{-n},\n",
    "f_{m} d_{n} | m > n\n",
    "-> - d_{n} f_{m} + \\delta_{m}_{-n},\n",
    "\\bs \\cs \n",
    "-> - \\cs \\bs+ 1,\n",
    "\\bp \\cp \n",
    "-> - \\cp \\bp+ 1,\n",
    "\\alpha_{0}^{\\mu}\n",
    "-> \\sqrt{\\alphap / 2} p^{\\mu},\n",
    "\\beta_{0}^{\\mu}\n",
    "-> \\sqrt{\\alphap / 2} p^{\\mu},\n",
    "p^{\\mu} \\vac\n",
    "-> k^{\\mu} \\vac,\n",
    "\\alpha_{m}^{\\mu} \\vac | m > 0\n",
    "-> 0,\n",
    "\\beta_{m}^{\\mu} \\vac | m > 0\n",
    "-> 0,\n",
    "\\bs \\vac\n",
    "-> 0,\n",
    "\\bp \\vac\n",
    "-> 0,\n",
    "b_{m} \\vac | m > 0\n",
    "-> 0,\n",
    "d_{m} \\vac| m > 0\n",
    "-> 0,\n",
    "c_{m} \\vac | m > 0\n",
    "-> 0,\n",
    "f_{m} \\vac | m > 0\n",
    "-> 0,\n",
    "\n",
    "k_{\\mu} k^{\\mu}\n",
    "-> k**2,\n",
    "\\bravac \\cs \\cp \\vac\n",
    "-> \\frac{1}{2}\n",
    "};"
   ]
  },
  {
   "cell_type": "code",
   "execution_count": 10,
   "id": "60637f51-67e2-43e9-af53-bfd34c33bdad",
   "metadata": {},
   "outputs": [
    {
     "data": {
      "text/markdown": [
       "${}\\left[\\alpha_{n}\\,^{\\mu} \\rightarrow -\\alpha_{-n}\\,^{\\mu}, c_{n} \\rightarrow -c_{-n}, b_{n} \\rightarrow b_{-n}, c_0^+ \\rightarrow -c_0^+, c_0^- \\rightarrow -c_0^-, | k, \\downarrow \\downarrow \\rangle \\rightarrow 1, A?\\left(k\\right) \\rightarrow A?\\left(-k\\right), A?_{\\mu}\\left(k\\right) \\rightarrow A?_{\\mu}\\left(-k\\right), A?_{\\mu \\nu}\\left(k\\right) \\rightarrow A?_{\\mu \\nu}\\left(-k\\right)\\right]$"
      ]
     },
     "metadata": {},
     "output_type": "display_data"
    }
   ],
   "source": [
    "# BPZ conjugation definition\n",
    "\n",
    "bpzrl := {\n",
    "\\alpha_{n}^{\\mu} -> - \\alpha_{-n}^{\\mu},\n",
    "c_{n} -> - c_{-n},\n",
    "b_{n} -> b_{-n},\n",
    "\\cp -> - \\cp,\n",
    "\\cs -> - \\cs,\n",
    "\\vac -> 1,\n",
    "A?(k) -> A?(-k),\n",
    "A?_{\\mu}(k) -> A?_{\\mu}(-k),\n",
    "A?_{\\mu\\nu}(k) -> A?_{\\mu\\nu}(-k)\n",
    "};"
   ]
  },
  {
   "cell_type": "code",
   "execution_count": 11,
   "id": "fed3b95c-6eea-4325-aa1e-cbbda8024f5f",
   "metadata": {},
   "outputs": [],
   "source": [
    "def bpz(ex):\n",
    "    distribute(ex)\n",
    "    substitute(ex, bpzrl)\n",
    "    sort_product(ex)\n",
    "    return ex"
   ]
  },
  {
   "cell_type": "code",
   "execution_count": 12,
   "id": "ad03a323-0ed7-4dec-ad6a-7a0a60b38cf9",
   "metadata": {},
   "outputs": [
    {
     "data": {
      "text/markdown": [
       "${}\\alpha_{-2}\\,^{\\mu} \\alpha_{1 \\mu}+\\sqrt{\\frac{1}{2}\\alpha'} k_{\\mu} \\alpha_{-1}\\,^{\\mu}$"
      ]
     },
     "metadata": {},
     "output_type": "display_data"
    },
    {
     "data": {
      "text/markdown": [
       "${}\\alpha_{-1}\\,^{\\mu} \\alpha_{2 \\mu}+\\sqrt{\\frac{1}{2}\\alpha'} k_{\\mu} \\alpha_{1}\\,^{\\mu}$"
      ]
     },
     "metadata": {},
     "output_type": "display_data"
    },
    {
     "data": {
      "text/markdown": [
       "${}\\beta_{-2}\\,^{\\mu} \\beta_{1 \\mu}+\\sqrt{\\frac{1}{2}\\alpha'} k_{\\mu} \\beta_{-1}\\,^{\\mu}$"
      ]
     },
     "metadata": {},
     "output_type": "display_data"
    },
    {
     "data": {
      "text/markdown": [
       "${}\\beta_{-1}\\,^{\\mu} \\beta_{2 \\mu}+\\sqrt{\\frac{1}{2}\\alpha'} k_{\\mu} \\beta_{1}\\,^{\\mu}$"
      ]
     },
     "metadata": {},
     "output_type": "display_data"
    },
    {
     "data": {
      "text/markdown": [
       "${}\\frac{1}{2}\\alpha_{-1}\\,^{\\mu} \\alpha_{-1 \\mu}+\\sqrt{\\frac{1}{2}\\alpha'} k_{\\mu} \\alpha_{-2}\\,^{\\mu}$"
      ]
     },
     "metadata": {},
     "output_type": "display_data"
    },
    {
     "data": {
      "text/markdown": [
       "${}\\frac{1}{2}\\alpha_{1}\\,^{\\mu} \\alpha_{1 \\mu}+\\sqrt{\\frac{1}{2}\\alpha'} k_{\\mu} \\alpha_{2}\\,^{\\mu}$"
      ]
     },
     "metadata": {},
     "output_type": "display_data"
    },
    {
     "data": {
      "text/markdown": [
       "${}\\frac{1}{2}\\beta_{-1}\\,^{\\mu} \\beta_{-1 \\mu}+\\sqrt{\\frac{1}{2}\\alpha'} k_{\\mu} \\beta_{-2}\\,^{\\mu}$"
      ]
     },
     "metadata": {},
     "output_type": "display_data"
    },
    {
     "data": {
      "text/markdown": [
       "${}\\frac{1}{2}\\beta_{1}\\,^{\\mu} \\beta_{1 \\mu}+\\sqrt{\\frac{1}{2}\\alpha'} k_{\\mu} \\beta_{2}\\,^{\\mu}$"
      ]
     },
     "metadata": {},
     "output_type": "display_data"
    },
    {
     "data": {
      "text/markdown": [
       "${}\\frac{1}{2}\\alpha' k_{\\mu} k^{\\mu}$"
      ]
     },
     "metadata": {},
     "output_type": "display_data"
    },
    {
     "data": {
      "text/markdown": [
       "${}2$"
      ]
     },
     "metadata": {},
     "output_type": "display_data"
    }
   ],
   "source": [
    "#Virasoro generators definition\n",
    "\n",
    "Lm1 := \\alpha_{-2}^{\\mu}\\alpha_{1}_{\\mu}+\\sqrt{\\alphap / 2} k_{\\mu} \\alpha_{-1}^{\\mu};\n",
    "Lp1 := \\alpha_{-1}^{\\mu}\\alpha_{2}_{\\mu}+\\sqrt{\\alphap / 2} k_{\\mu} \\alpha_{1}^{\\mu};\n",
    "Lbm1:= \\beta_{-2}^{\\mu}\\beta_{1}_{\\mu}+\\sqrt{\\alphap / 2} k_{\\mu} \\beta_{-1}^{\\mu};\n",
    "Lbp1:= \\beta_{-1}^{\\mu}\\beta_{2}_{\\mu}+\\sqrt{\\alphap / 2} k_{\\mu} \\beta_{1}^{\\mu};\n",
    "Lm2 := \\frac{1}{2}\\alpha_{-1}^{\\mu}\\alpha_{-1}_{\\mu}+\\sqrt{\\alphap / 2} k_{\\mu} \\alpha_{-2}^{\\mu};\n",
    "Lp2 := \\frac{1}{2}\\alpha_{1}^{\\mu}\\alpha_{1}_{\\mu}+\\sqrt{\\alphap / 2} k_{\\mu} \\alpha_{2}^{\\mu};\n",
    "Lbm2 := \\frac{1}{2}\\beta_{-1}^{\\mu}\\beta_{-1}_{\\mu}+\\sqrt{\\alphap / 2} k_{\\mu} \\beta_{-2}^{\\mu};\n",
    "Lbp2 := \\frac{1}{2}\\beta_{1}^{\\mu}\\beta_{1}_{\\mu}+\\sqrt{\\alphap / 2} k_{\\mu} \\beta_{2}^{\\mu};\n",
    "L0p := \\frac{\\alphap}{2} k_{\\mu} k^{\\mu};\n",
    "L0m := 2;"
   ]
  },
  {
   "cell_type": "code",
   "execution_count": 13,
   "id": "f59791f2-ad5f-43d6-bca4-fea28cf3ed57",
   "metadata": {},
   "outputs": [
    {
     "data": {
      "text/markdown": [
       "${}c_{-1} c_{1}+f_{-1} f_{1}+2c_{-2} c_{2}+2f_{-2} f_{2}$"
      ]
     },
     "metadata": {},
     "output_type": "display_data"
    },
    {
     "data": {
      "text/markdown": [
       "${}c_{-1} c_{1}-f_{-1} f_{1}+2c_{-2} c_{2}-2f_{-2} f_{2}$"
      ]
     },
     "metadata": {},
     "output_type": "display_data"
    },
    {
     "data": {
      "text/markdown": [
       "${}c_{-1} \\left(\\alpha_{-1}\\,^{\\mu} \\alpha_{2 \\mu}+\\sqrt{\\frac{1}{2}\\alpha'} k_{\\mu} \\alpha_{1}\\,^{\\mu}\\right)+c_{1} \\left(\\alpha_{-2}\\,^{\\mu} \\alpha_{1 \\mu}+\\sqrt{\\frac{1}{2}\\alpha'} k_{\\mu} \\alpha_{-1}\\,^{\\mu}\\right)+f_{-1} \\left(\\beta_{-1}\\,^{\\mu} \\beta_{2 \\mu}+\\sqrt{\\frac{1}{2}\\alpha'} k_{\\mu} \\beta_{1}\\,^{\\mu}\\right)+f_{1} \\left(\\beta_{-2}\\,^{\\mu} \\beta_{1 \\mu}+\\sqrt{\\frac{1}{2}\\alpha'} k_{\\mu} \\beta_{-1}\\,^{\\mu}\\right)-3c_{-1} c_{2} b_{-1}-3f_{-1} f_{2} d_{-1}-3c_{-2} c_{1} b_{1}-3f_{-2} f_{1} d_{1}$"
      ]
     },
     "metadata": {},
     "output_type": "display_data"
    },
    {
     "data": {
      "text/markdown": [
       "${}2c_0^-+\\frac{1}{2}c_0^+ \\alpha' k_{\\mu} k^{\\mu}-b_0^+ \\left(c_{-1} c_{1}+f_{-1} f_{1}+2c_{-2} c_{2}+2f_{-2} f_{2}\\right)-b_0^- \\left(c_{-1} c_{1}-f_{-1} f_{1}+2c_{-2} c_{2}-2f_{-2} f_{2}\\right)+c_{-1} \\left(\\alpha_{-1}\\,^{\\mu} \\alpha_{2 \\mu}+\\sqrt{\\frac{1}{2}\\alpha'} k_{\\mu} \\alpha_{1}\\,^{\\mu}\\right)+c_{1} \\left(\\alpha_{-2}\\,^{\\mu} \\alpha_{1 \\mu}+\\sqrt{\\frac{1}{2}\\alpha'} k_{\\mu} \\alpha_{-1}\\,^{\\mu}\\right)+f_{-1} \\left(\\beta_{-1}\\,^{\\mu} \\beta_{2 \\mu}+\\sqrt{\\frac{1}{2}\\alpha'} k_{\\mu} \\beta_{1}\\,^{\\mu}\\right)+f_{1} \\left(\\beta_{-2}\\,^{\\mu} \\beta_{1 \\mu}+\\sqrt{\\frac{1}{2}\\alpha'} k_{\\mu} \\beta_{-1}\\,^{\\mu}\\right)-3c_{-1} c_{2} b_{-1}-3f_{-1} f_{2} d_{-1}-3c_{-2} c_{1} b_{1}-3f_{-2} f_{1} d_{1}$"
      ]
     },
     "metadata": {},
     "output_type": "display_data"
    }
   ],
   "source": [
    "# BRST charge definition\n",
    "\n",
    "Mp := c_{-1} c_{1} + f_{-1} f_{1}+2(c_{-2} c_{2}+f_{-2} f_{2});\n",
    "Ms := c_{-1} c_{1} - f_{-1} f_{1}+2(c_{-2} c_{2} - f_{-2} f_{2});\n",
    "Qh := c_{-1} @{Lp1} + c_{1} @{Lm1}+ f_{-1} @{Lbp1} + f_{1} @{Lbm1}-3(c_{-1}c_{2}b_{-1}+f_{-1}f_{2}d_{-1}+c_{-2}c_{1}b_{1}+f_{-2}f_{1}d_{1}));\n",
    "Q := \\cs @{L0m} +\\cp @{L0p} - \\bp @{Mp} - \\bs @{Ms} + @{Qh};"
   ]
  },
  {
   "cell_type": "code",
   "execution_count": 14,
   "id": "1b080bb1-6391-4657-a0c7-4dfa4f9553c4",
   "metadata": {},
   "outputs": [],
   "source": [
    "# definition of act different because with the previous one, converge() would mysteriously loop forever.\n",
    "def act(ex):\n",
    "    tempex = 0\n",
    "    while (tempex != ex):\n",
    "        tempex := @(ex).\n",
    "        distribute(ex)\n",
    "        substitute(ex, oprl)\n",
    "        distribute(ex)\n",
    "        eliminate_kronecker(ex)\n",
    "        rename_dummies(ex)\n",
    "        sort_product(ex)\n",
    "        \n",
    "    return ex"
   ]
  },
  {
   "cell_type": "code",
   "execution_count": 15,
   "id": "fa6eb45a-c746-4d80-b7b9-fffac1727cc5",
   "metadata": {},
   "outputs": [
    {
     "data": {
      "text/markdown": [
       "${}\\left(R\\left(k\\right) b_{-2} c_0^-+S\\left(k\\right) b_{-2} c_0^++X\\left(k\\right) b_{-1} c_{-1}+i Y_{\\mu}\\left(k\\right) b_{-1} \\alpha_{-1}\\,^{\\mu} c_0^++i W_{\\mu}\\left(k\\right) b_{-1} \\alpha_{-1}\\,^{\\mu} c_0^-+Z_{\\mu \\nu}\\left(k\\right) \\alpha_{-1}\\,^{\\mu} \\alpha_{-1}\\,^{\\nu}+i V_{\\mu}\\left(k\\right) \\alpha_{-2}\\,^{\\mu}\\right) | k, \\downarrow \\downarrow \\rangle$"
      ]
     },
     "metadata": {},
     "output_type": "display_data"
    },
    {
     "data": {
      "text/markdown": [
       "${}\\left(I\\left(k\\right) b_{-2} c_0^- c_0^++J\\left(k\\right) c_{-2}+A\\left(k\\right) b_{-1} c_{-1} c_0^-+B\\left(k\\right) b_{-1} c_{-1} c_0^++i C_{\\mu}\\left(k\\right) b_{-1} \\alpha_{-1}\\,^{\\mu} c_0^- c_0^++i D_{\\mu}\\left(k\\right) c_{-1} \\alpha_{-1}\\,^{\\mu}+E_{\\mu \\nu}\\left(k\\right) \\alpha_{-1}\\,^{\\mu} \\alpha_{-1}\\,^{\\nu} c_0^-+F_{\\mu \\nu}\\left(k\\right) \\alpha_{-1}\\,^{\\mu} \\alpha_{-1}\\,^{\\nu} c_0^++i G_{\\mu}\\left(k\\right) \\alpha_{-2}\\,^{\\mu} c_0^++i H_{\\mu}\\left(k\\right) \\alpha_{-2}\\,^{\\mu} c_0^-\\right) | k, \\downarrow \\downarrow \\rangle$"
      ]
     },
     "metadata": {},
     "output_type": "display_data"
    }
   ],
   "source": [
    "#Definition des champs Psi et \\tilde{Psi}\n",
    "\n",
    "Psi20 := (R(k) b_{-2} \\cs +S(k) b_{-2} \\cp + X(k)b_{-1}c_{-1}+ i Y_{\\mu}(k) b_{-1} \\alpha_{-1}^{\\mu} \\cp + i W_{\\mu}(k)b_{-1} \\alpha_{-1}^{\\mu} \\cs +Z_{\\mu\\nu}(k)\\alpha_{-1}^{\\mu}\\alpha_{-1}^{\\nu}+i V_{\\mu}(k)\\alpha_{-2}^{\\mu}) \\vac;\n",
    "Psit20 := ( I(k) b_{-2} \\cs \\cp +  J(k)c_{-2}+  A(k) b_{-1} c_{-1} \\cs +  B(k) b_{-1} c_{-1} \\cp + i C_{\\mu}(k)b_{-1} \\alpha_{-1}^{\\mu}\\cs\\cp+ i D_{\\mu}(k)c_{-1}\\alpha_{-1}^{\\mu}+ E_{\\mu\\nu}(k)\\alpha_{-1}^{\\mu}\\alpha_{-1}^{\\nu}\\cs+ F_{\\mu\\nu}(k) \\alpha_{-1}^{\\mu}\\alpha_{-1}^{\\nu}\\cp+ i G_{\\mu}(k)\\alpha_{-2}^{\\mu}\\cp+ i H_{\\mu}(k)\\alpha_{-2}^{\\mu}\\cs)\\vac;"
   ]
  },
  {
   "cell_type": "code",
   "execution_count": 16,
   "id": "cd47c525-e4b4-4478-b4dd-02ca4b8a34c9",
   "metadata": {},
   "outputs": [
    {
     "data": {
      "text/markdown": [
       "${}R\\left(-k\\right) \\langle - k, \\downarrow \\downarrow | c_0^- b_{2}+S\\left(-k\\right) \\langle - k, \\downarrow \\downarrow | c_0^+ b_{2}-X\\left(-k\\right) \\langle - k, \\downarrow \\downarrow | b_{1} c_{1}-Y_{\\mu}\\left(-k\\right) i \\langle - k, \\downarrow \\downarrow | c_0^+ \\alpha_{1}\\,^{\\mu} b_{1}-W_{\\mu}\\left(-k\\right) i \\langle - k, \\downarrow \\downarrow | c_0^- \\alpha_{1}\\,^{\\mu} b_{1}+Z_{\\mu \\nu}\\left(-k\\right) \\langle - k, \\downarrow \\downarrow | \\alpha_{1}\\,^{\\mu} \\alpha_{1}\\,^{\\nu}-V_{\\mu}\\left(-k\\right) i \\langle - k, \\downarrow \\downarrow | \\alpha_{2}\\,^{\\mu}$"
      ]
     },
     "metadata": {},
     "output_type": "display_data"
    },
    {
     "data": {
      "text/markdown": [
       "${}I\\left(-k\\right) \\langle - k, \\downarrow \\downarrow | c_0^- c_0^+ b_{2}-J\\left(-k\\right) \\langle - k, \\downarrow \\downarrow | c_{2}+A\\left(-k\\right) \\langle - k, \\downarrow \\downarrow | c_0^- b_{1} c_{1}+B\\left(-k\\right) \\langle - k, \\downarrow \\downarrow | c_0^+ b_{1} c_{1}-C_{\\mu}\\left(-k\\right) i \\langle - k, \\downarrow \\downarrow | c_0^- c_0^+ \\alpha_{1}\\,^{\\mu} b_{1}+D_{\\mu}\\left(-k\\right) i \\langle - k, \\downarrow \\downarrow | \\alpha_{1}\\,^{\\mu} c_{1}-E_{\\mu \\nu}\\left(-k\\right) \\langle - k, \\downarrow \\downarrow | c_0^- \\alpha_{1}\\,^{\\mu} \\alpha_{1}\\,^{\\nu}-F_{\\mu \\nu}\\left(-k\\right) \\langle - k, \\downarrow \\downarrow | c_0^+ \\alpha_{1}\\,^{\\mu} \\alpha_{1}\\,^{\\nu}+G_{\\mu}\\left(-k\\right) i \\langle - k, \\downarrow \\downarrow | c_0^+ \\alpha_{2}\\,^{\\mu}+H_{\\mu}\\left(-k\\right) i \\langle - k, \\downarrow \\downarrow | c_0^- \\alpha_{2}\\,^{\\mu}$"
      ]
     },
     "metadata": {},
     "output_type": "display_data"
    }
   ],
   "source": [
    "#BPZ of the string fields\n",
    "\n",
    "Psi20bra := \\bravac @{Psi20}.\n",
    "bpz(Psi20bra);\n",
    "Psit20bra := \\bravac @{Psit20}.\n",
    "bpz(Psit20bra);"
   ]
  },
  {
   "cell_type": "code",
   "execution_count": 17,
   "id": "6ae6fd0e-d94a-4f2b-860f-be473d4cde99",
   "metadata": {},
   "outputs": [
    {
     "data": {
      "text/markdown": [
       "${}-2S\\left(k\\right) b_{-2} c_0^- c_0^+ | k, \\downarrow \\downarrow \\rangle+2X\\left(k\\right) b_{-1} c_{-1} c_0^- | k, \\downarrow \\downarrow \\rangle-2Y_{\\mu}\\left(k\\right) i \\alpha_{-1}\\,^{\\mu} b_{-1} c_0^- c_0^+ | k, \\downarrow \\downarrow \\rangle+2Z_{\\mu \\nu}\\left(k\\right) \\alpha_{-1}\\,^{\\mu} \\alpha_{-1}\\,^{\\nu} c_0^- | k, \\downarrow \\downarrow \\rangle+2V_{\\mu}\\left(k\\right) i \\alpha_{-2}\\,^{\\mu} c_0^- | k, \\downarrow \\downarrow \\rangle+\\frac{1}{2}R\\left(k\\right) \\alpha' {k}^{2} b_{-2} c_0^- c_0^+ | k, \\downarrow \\downarrow \\rangle+\\frac{1}{2}X\\left(k\\right) \\alpha' {k}^{2} b_{-1} c_{-1} c_0^+ | k, \\downarrow \\downarrow \\rangle+\\frac{1}{2}W_{\\mu}\\left(k\\right) i \\alpha' {k}^{2} \\alpha_{-1}\\,^{\\mu} b_{-1} c_0^- c_0^+ | k, \\downarrow \\downarrow \\rangle+\\frac{1}{2}Z_{\\mu \\nu}\\left(k\\right) \\alpha' {k}^{2} \\alpha_{-1}\\,^{\\mu} \\alpha_{-1}\\,^{\\nu} c_0^+ | k, \\downarrow \\downarrow \\rangle+\\frac{1}{2}V_{\\mu}\\left(k\\right) i \\alpha' {k}^{2} \\alpha_{-2}\\,^{\\mu} c_0^+ | k, \\downarrow \\downarrow \\rangle+Y_{\\mu}\\left(k\\right) i \\alpha_{-1}\\,^{\\mu} c_{-1} | k, \\downarrow \\downarrow \\rangle+2S\\left(k\\right) c_{-2} | k, \\downarrow \\downarrow \\rangle+W_{\\mu}\\left(k\\right) i \\alpha_{-1}\\,^{\\mu} c_{-1} | k, \\downarrow \\downarrow \\rangle+2R\\left(k\\right) c_{-2} | k, \\downarrow \\downarrow \\rangle+2V_{\\mu}\\left(k\\right) i \\alpha_{-1}\\,^{\\mu} c_{-1} | k, \\downarrow \\downarrow \\rangle+Y_{\\mu}\\left(k\\right) i \\sqrt{\\frac{1}{2}\\alpha'} k^{\\mu} c_{-1} b_{-1} c_0^+ | k, \\downarrow \\downarrow \\rangle+W_{\\mu}\\left(k\\right) i \\sqrt{\\frac{1}{2}\\alpha'} k^{\\mu} c_{-1} b_{-1} c_0^- | k, \\downarrow \\downarrow \\rangle+Z_{\\mu}\\,^{\\nu}\\left(k\\right) \\sqrt{\\frac{1}{2}\\alpha'} k_{\\nu} \\alpha_{-1}\\,^{\\mu} c_{-1} | k, \\downarrow \\downarrow \\rangle+Z_{\\mu \\nu}\\left(k\\right) \\sqrt{\\frac{1}{2}\\alpha'} k^{\\mu} \\alpha_{-1}\\,^{\\nu} c_{-1} | k, \\downarrow \\downarrow \\rangle%\n",
       "+Y_{\\mu}\\left(k\\right) i \\alpha_{-2}\\,^{\\mu} c_0^+ | k, \\downarrow \\downarrow \\rangle+W_{\\mu}\\left(k\\right) i \\alpha_{-2}\\,^{\\mu} c_0^- | k, \\downarrow \\downarrow \\rangle+X\\left(k\\right) \\sqrt{\\frac{1}{2}\\alpha'} k_{\\mu} \\alpha_{-1}\\,^{\\mu} c_{-1} | k, \\downarrow \\downarrow \\rangle+Y_{\\mu}\\left(k\\right) i \\sqrt{\\frac{1}{2}\\alpha'} k_{\\nu} \\alpha_{-1}\\,^{\\nu} \\alpha_{-1}\\,^{\\mu} c_0^+ | k, \\downarrow \\downarrow \\rangle+W_{\\mu}\\left(k\\right) i \\sqrt{\\frac{1}{2}\\alpha'} k_{\\nu} \\alpha_{-1}\\,^{\\nu} \\alpha_{-1}\\,^{\\mu} c_0^- | k, \\downarrow \\downarrow \\rangle+3R\\left(k\\right) c_{-1} b_{-1} c_0^- | k, \\downarrow \\downarrow \\rangle+3S\\left(k\\right) c_{-1} b_{-1} c_0^+ | k, \\downarrow \\downarrow \\rangle+3X\\left(k\\right) c_{-2} | k, \\downarrow \\downarrow \\rangle$"
      ]
     },
     "metadata": {},
     "output_type": "display_data"
    }
   ],
   "source": [
    "# Equations of motion\n",
    "\n",
    "Eom20 := @{Q} @{Psi20}.\n",
    "act(Eom20);\n",
    "#factor_out(Eom10,$ b_{-1},c_{-1}, \\alpha_{-1}^{\\mu}, \\cs, \\cp, \\vac$,);"
   ]
  },
  {
   "cell_type": "code",
   "execution_count": 18,
   "id": "dd21f3f5-8541-4f5b-a758-12bc9bd5fa8a",
   "metadata": {},
   "outputs": [
    {
     "data": {
      "text/markdown": [
       "${}b_{-2} c_0^- c_0^+ | k, \\downarrow \\downarrow \\rangle \\left(-2S\\left(k\\right)+\\frac{1}{2}R\\left(k\\right) \\alpha' {k}^{2}\\right)+2b_{-1} c_{-1} c_0^- | k, \\downarrow \\downarrow \\rangle X\\left(k\\right)+\\alpha_{-1}\\,^{\\mu} b_{-1} c_0^- c_0^+ | k, \\downarrow \\downarrow \\rangle \\left(-2Y_{\\mu}\\left(k\\right) i+\\frac{1}{2}W_{\\mu}\\left(k\\right) i \\alpha' {k}^{2}\\right)+2\\alpha_{-1}\\,^{\\mu} c_0^- Z_{\\mu \\nu}\\left(k\\right) \\alpha_{-1}\\,^{\\nu} | k, \\downarrow \\downarrow \\rangle+\\alpha_{-2}\\,^{\\mu} c_0^- | k, \\downarrow \\downarrow \\rangle \\left(2V_{\\mu}\\left(k\\right) i+W_{\\mu}\\left(k\\right) i\\right)+\\frac{1}{2}b_{-1} c_{-1} c_0^+ | k, \\downarrow \\downarrow \\rangle X\\left(k\\right) \\alpha' {k}^{2}+\\frac{1}{2}\\alpha_{-1}\\,^{\\mu} \\alpha_{-1}\\,^{\\nu} c_0^+ | k, \\downarrow \\downarrow \\rangle Z_{\\mu \\nu}\\left(k\\right) \\alpha' {k}^{2}+\\alpha_{-2}\\,^{\\mu} c_0^+ | k, \\downarrow \\downarrow \\rangle \\left(\\frac{1}{2}V_{\\mu}\\left(k\\right) i \\alpha' {k}^{2}+Y_{\\mu}\\left(k\\right) i\\right)+\\alpha_{-1}\\,^{\\mu} c_{-1} | k, \\downarrow \\downarrow \\rangle \\left(Y_{\\mu}\\left(k\\right) i+W_{\\mu}\\left(k\\right) i+2V_{\\mu}\\left(k\\right) i+Z_{\\mu}\\,^{\\nu}\\left(k\\right) \\sqrt{\\frac{1}{2}\\alpha'} k_{\\nu}+X\\left(k\\right) \\sqrt{\\frac{1}{2}\\alpha'} k_{\\mu}\\right)+c_{-2} | k, \\downarrow \\downarrow \\rangle \\left(2S\\left(k\\right)+2R\\left(k\\right)+3X\\left(k\\right)\\right)+c_{-1} b_{-1} c_0^+ | k, \\downarrow \\downarrow \\rangle \\left(Y_{\\mu}\\left(k\\right) i \\sqrt{\\frac{1}{2}\\alpha'} k^{\\mu}+3S\\left(k\\right)\\right)+c_{-1} b_{-1} c_0^- | k, \\downarrow \\downarrow \\rangle \\left(W_{\\mu}\\left(k\\right) i \\sqrt{\\frac{1}{2}\\alpha'} k^{\\mu}+3R\\left(k\\right)\\right)+\\alpha_{-1}\\,^{\\nu} c_{-1} | k, \\downarrow \\downarrow \\rangle Z_{\\mu \\nu}\\left(k\\right) \\sqrt{\\frac{1}{2}\\alpha'} k^{\\mu}+\\alpha_{-1}\\,^{\\nu} \\alpha_{-1}\\,^{\\mu} c_0^+ | k, \\downarrow \\downarrow \\rangle Y_{\\mu}\\left(k\\right) i \\sqrt{\\frac{1}{2}\\alpha'} k_{\\nu}+\\alpha_{-1}\\,^{\\nu} \\alpha_{-1}\\,^{\\mu} c_0^- | k, \\downarrow \\downarrow \\rangle W_{\\mu}\\left(k\\right) i \\sqrt{\\frac{1}{2}\\alpha'} k_{\\nu}$"
      ]
     },
     "metadata": {},
     "output_type": "display_data"
    }
   ],
   "source": [
    "factor_out(Eom20,$ b_{-1}, c_{-1}, b_{-2}, c_{-2}, \\alpha_{-1}^{\\mu}, \\alpha_{-1}^{\\nu}, \\alpha_{-2}^{\\mu}, \\cs, \\cp, \\vac$,);"
   ]
  },
  {
   "cell_type": "code",
   "execution_count": 19,
   "id": "1a91dfe1-e36e-4905-b2e9-5bb4732b50e9",
   "metadata": {},
   "outputs": [],
   "source": [
    "#Action\n",
    "\n",
    "action20 :=  @{Psit20bra} @{Q} @{Psi20}.\n",
    "act(action20);"
   ]
  },
  {
   "cell_type": "code",
   "execution_count": 20,
   "id": "af8d27c1-ed9b-4222-aae9-ec8c8fb883f9",
   "metadata": {},
   "outputs": [
    {
     "name": "stderr",
     "output_type": "stream",
     "text": [
      "Traceback (most recent call last):\n",
      "  File \"/usr/local/lib/python3.9/site-packages/cadabra2_jupyter/kernel.py\", line 54, in do_execute\n",
      "    self._execute_python(pycode)\n",
      "  File \"/usr/local/lib/python3.9/site-packages/cadabra2_jupyter/kernel.py\", line 108, in _execute_python\n",
      "    self._sandbox_context(pycode)\n",
      "  File \"/usr/local/lib/python3.9/site-packages/cadabra2_jupyter/context.py\", line 51, in __call__\n",
      "    exec(code, self._sandbox)\n",
      "  File \"<string>\", line 1, in <module>\n",
      "NameError: name 'action20' is not defined\n"
     ]
    }
   ],
   "source": [
    "factor_out(action20,$I(-k), J(-k), A(-k), B(-k), C^{\\mu}(-k), D^{\\mu}(-k), E^{\\mu\\nu}(-k), F^{\\mu\\nu}(-k), G^{\\mu}(-k), H^{\\mu}(-k), $);"
   ]
  },
  {
   "cell_type": "code",
   "execution_count": 21,
   "id": "9c5e3be9-f8b8-4b58-afc1-b08069eb1d34",
   "metadata": {},
   "outputs": [
    {
     "data": {
      "text/markdown": [
       "${}\\left(A\\left(k\\right) b_{-2}+i b_{\\mu}\\left(k\\right) b_{-1} \\alpha_{-1}\\,^{\\mu}\\right) | k, \\downarrow \\downarrow \\rangle$"
      ]
     },
     "metadata": {},
     "output_type": "display_data"
    },
    {
     "data": {
      "text/markdown": [
       "${}\\left(c\\left(k\\right) b_{-2} c_0^-+d\\left(k\\right) b_{-2} c_0^++e\\left(k\\right) b_{-1} c_{-1}+i k_{\\mu}\\left(k\\right) b_{-1} \\alpha_{-1}\\,^{\\mu} c_0^++i t_{\\mu}\\left(k\\right) b_{-1} \\alpha_{-1}\\,^{\\mu} c_0^-+l_{\\mu \\nu}\\left(k\\right) \\alpha_{-1}\\,^{\\mu} \\alpha_{-1}\\,^{\\nu}+i p_{\\mu}\\left(k\\right) \\alpha_{-2}\\,^{\\mu}\\right) | k, \\downarrow \\downarrow \\rangle$"
      ]
     },
     "metadata": {},
     "output_type": "display_data"
    }
   ],
   "source": [
    "#Gauge Parameters\n",
    "\n",
    "Lambda20 := (A(k) b_{-2} +i b_{\\mu}(k)b_{-1}\\alpha_{-1}^{\\mu}) \\vac;\n",
    "Lambdat20 := ( c(k)  b_{-2} \\cs +  d(k) b_{-2} \\cp +  e(k) b_{-1}c_{-1}+ i k_{\\mu}(k)b_{-1}\\alpha_{-1}^{\\mu}\\cp+ i t_{\\mu}(k)b_{-1}\\alpha_{-1}^{\\mu}\\cs+ l_{\\mu\\nu}(k)\\alpha_{-1}^{\\mu}\\alpha_{-1}^{\\nu}+ i p_{\\mu}(k)\\alpha_{-2}^{\\mu})\\vac;"
   ]
  },
  {
   "cell_type": "code",
   "execution_count": 22,
   "id": "6bce3941-eee1-435e-87ef-b171abbeb8fc",
   "metadata": {},
   "outputs": [
    {
     "data": {
      "text/markdown": [
       "${}-2A\\left(k\\right) b_{-2} c_0^- | k, \\downarrow \\downarrow \\rangle-2i \\alpha_{-1}\\,^{\\mu} b_{-1} c_0^- | k, \\downarrow \\downarrow \\rangle b_{\\mu}\\left(k\\right) - \\frac{1}{2}A\\left(k\\right) \\alpha' {k}^{2} b_{-2} c_0^+ | k, \\downarrow \\downarrow \\rangle - \\frac{1}{2}i \\alpha' {k}^{2} \\alpha_{-1}\\,^{\\mu} b_{-1} c_0^+ | k, \\downarrow \\downarrow \\rangle b_{\\mu}\\left(k\\right)+i \\sqrt{\\frac{1}{2}\\alpha'} b_{\\mu}\\left(k\\right) k^{\\mu} c_{-1} b_{-1} | k, \\downarrow \\downarrow \\rangle+i \\alpha_{-2}\\,^{\\mu} | k, \\downarrow \\downarrow \\rangle b_{\\mu}\\left(k\\right)+i \\sqrt{\\frac{1}{2}\\alpha'} k_{\\mu} \\alpha_{-1}\\,^{\\mu} \\alpha_{-1}\\,^{\\nu} | k, \\downarrow \\downarrow \\rangle b_{\\nu}\\left(k\\right)+3A\\left(k\\right) c_{-1} b_{-1} | k, \\downarrow \\downarrow \\rangle$"
      ]
     },
     "metadata": {},
     "output_type": "display_data"
    }
   ],
   "source": [
    "#Gauge invariance of Phi\n",
    "\n",
    "QLambda20 := @{Q} @{Lambda20}.\n",
    "act(QLambda20);\n",
    "#factor_out(QLambda20, $\\cp, \\cs, b_{-1}, c_{-1}, f_{-2}, \\alpha_{-1}^{\\mu}, i, \\vac$);"
   ]
  },
  {
   "cell_type": "code",
   "execution_count": 23,
   "id": "c34da59a-d84c-487b-bc42-80eaaeeab36e",
   "metadata": {},
   "outputs": [
    {
     "data": {
      "text/markdown": [
       "${}-2b_{-2} c_0^- c_0^+ | k, \\downarrow \\downarrow \\rangle d\\left(k\\right)+2b_{-1} c_{-1} c_0^- | k, \\downarrow \\downarrow \\rangle e\\left(k\\right)-2i \\alpha_{-1}\\,^{\\mu} b_{-1} c_0^- c_0^+ | k, \\downarrow \\downarrow \\rangle k_{\\mu}\\left(k\\right)+2\\alpha_{-1}\\,^{\\mu} \\alpha_{-1}\\,^{\\nu} c_0^- | k, \\downarrow \\downarrow \\rangle l_{\\mu \\nu}\\left(k\\right)+2i \\alpha_{-2}\\,^{\\mu} c_0^- | k, \\downarrow \\downarrow \\rangle p_{\\mu}\\left(k\\right)+\\frac{1}{2}\\alpha' {k}^{2} b_{-2} c_0^- c_0^+ | k, \\downarrow \\downarrow \\rangle c\\left(k\\right)+\\frac{1}{2}\\alpha' {k}^{2} b_{-1} c_{-1} c_0^+ | k, \\downarrow \\downarrow \\rangle e\\left(k\\right)+\\frac{1}{2}i \\alpha' {k}^{2} \\alpha_{-1}\\,^{\\mu} b_{-1} c_0^- c_0^+ | k, \\downarrow \\downarrow \\rangle t_{\\mu}\\left(k\\right)+\\frac{1}{2}\\alpha' {k}^{2} \\alpha_{-1}\\,^{\\mu} \\alpha_{-1}\\,^{\\nu} c_0^+ | k, \\downarrow \\downarrow \\rangle l_{\\mu \\nu}\\left(k\\right)+\\frac{1}{2}i \\alpha' {k}^{2} \\alpha_{-2}\\,^{\\mu} c_0^+ | k, \\downarrow \\downarrow \\rangle p_{\\mu}\\left(k\\right)+i \\alpha_{-1}\\,^{\\mu} c_{-1} | k, \\downarrow \\downarrow \\rangle k_{\\mu}\\left(k\\right)+2c_{-2} | k, \\downarrow \\downarrow \\rangle d\\left(k\\right)+i \\alpha_{-1}\\,^{\\mu} c_{-1} | k, \\downarrow \\downarrow \\rangle t_{\\mu}\\left(k\\right)+2c_{-2} | k, \\downarrow \\downarrow \\rangle c\\left(k\\right)+2i \\alpha_{-1}\\,^{\\mu} c_{-1} | k, \\downarrow \\downarrow \\rangle p_{\\mu}\\left(k\\right)+i \\sqrt{\\frac{1}{2}\\alpha'} k^{\\mu} c_{-1} b_{-1} c_0^+ | k, \\downarrow \\downarrow \\rangle k_{\\mu}\\left(k\\right)+i \\sqrt{\\frac{1}{2}\\alpha'} k^{\\mu} c_{-1} b_{-1} c_0^- | k, \\downarrow \\downarrow \\rangle t_{\\mu}\\left(k\\right)+\\sqrt{\\frac{1}{2}\\alpha'} k^{\\nu} \\alpha_{-1}\\,^{\\mu} c_{-1} | k, \\downarrow \\downarrow \\rangle l_{\\mu \\nu}\\left(k\\right)+\\sqrt{\\frac{1}{2}\\alpha'} k^{\\nu} \\alpha_{-1}\\,^{\\mu} c_{-1} | k, \\downarrow \\downarrow \\rangle l_{\\nu \\mu}\\left(k\\right)%\n",
       "+i \\alpha_{-2}\\,^{\\mu} c_0^+ | k, \\downarrow \\downarrow \\rangle k_{\\mu}\\left(k\\right)+i \\alpha_{-2}\\,^{\\mu} c_0^- | k, \\downarrow \\downarrow \\rangle t_{\\mu}\\left(k\\right)+\\sqrt{\\frac{1}{2}\\alpha'} k_{\\mu} \\alpha_{-1}\\,^{\\mu} c_{-1} | k, \\downarrow \\downarrow \\rangle e\\left(k\\right)+i \\sqrt{\\frac{1}{2}\\alpha'} k_{\\mu} \\alpha_{-1}\\,^{\\mu} \\alpha_{-1}\\,^{\\nu} c_0^+ | k, \\downarrow \\downarrow \\rangle k_{\\nu}\\left(k\\right)+i \\sqrt{\\frac{1}{2}\\alpha'} k_{\\mu} \\alpha_{-1}\\,^{\\mu} \\alpha_{-1}\\,^{\\nu} c_0^- | k, \\downarrow \\downarrow \\rangle t_{\\nu}\\left(k\\right)+3c_{-1} b_{-1} c_0^- | k, \\downarrow \\downarrow \\rangle c\\left(k\\right)+3c_{-1} b_{-1} c_0^+ | k, \\downarrow \\downarrow \\rangle d\\left(k\\right)+3c_{-2} | k, \\downarrow \\downarrow \\rangle e\\left(k\\right)$"
      ]
     },
     "metadata": {},
     "output_type": "display_data"
    }
   ],
   "source": [
    "#Gauge invariance of Phit\n",
    "\n",
    "QLambdat20 := @{Q} @{Lambdat20}.\n",
    "act(QLambdat20);"
   ]
  },
  {
   "cell_type": "code",
   "execution_count": 24,
   "id": "a75be63d-8485-4d30-94da-846d33418e4e",
   "metadata": {},
   "outputs": [
    {
     "data": {
      "text/markdown": [
       "${}b_{-2} c_0^- c_0^+ | k, \\downarrow \\downarrow \\rangle \\left(-2d\\left(k\\right)+\\frac{1}{2}\\alpha' {k}^{2} c\\left(k\\right)\\right)+2b_{-1} c_{-1} c_0^- | k, \\downarrow \\downarrow \\rangle e\\left(k\\right)+i \\alpha_{-1}\\,^{\\mu} b_{-1} c_0^- c_0^+ | k, \\downarrow \\downarrow \\rangle \\left(-2k_{\\mu}\\left(k\\right)+\\frac{1}{2}\\alpha' {k}^{2} t_{\\mu}\\left(k\\right)\\right)+2\\alpha_{-1}\\,^{\\mu} c_0^- \\alpha_{-1}\\,^{\\nu} | k, \\downarrow \\downarrow \\rangle l_{\\mu \\nu}\\left(k\\right)+i \\alpha_{-2}\\,^{\\mu} c_0^- | k, \\downarrow \\downarrow \\rangle \\left(2p_{\\mu}\\left(k\\right)+t_{\\mu}\\left(k\\right)\\right)+\\frac{1}{2}b_{-1} c_{-1} c_0^+ | k, \\downarrow \\downarrow \\rangle \\alpha' {k}^{2} e\\left(k\\right)+\\frac{1}{2}\\alpha_{-1}\\,^{\\mu} \\alpha_{-1}\\,^{\\nu} c_0^+ | k, \\downarrow \\downarrow \\rangle \\alpha' {k}^{2} l_{\\mu \\nu}\\left(k\\right)+i \\alpha_{-2}\\,^{\\mu} c_0^+ | k, \\downarrow \\downarrow \\rangle \\left(\\frac{1}{2}\\alpha' {k}^{2} p_{\\mu}\\left(k\\right)+k_{\\mu}\\left(k\\right)\\right)+i \\alpha_{-1}\\,^{\\mu} c_{-1} | k, \\downarrow \\downarrow \\rangle \\left(k_{\\mu}\\left(k\\right)+t_{\\mu}\\left(k\\right)+2p_{\\mu}\\left(k\\right)\\right)+c_{-2} | k, \\downarrow \\downarrow \\rangle \\left(2d\\left(k\\right)+2c\\left(k\\right)+3e\\left(k\\right)\\right)+i c_{-1} b_{-1} c_0^+ | k, \\downarrow \\downarrow \\rangle \\sqrt{\\frac{1}{2}\\alpha'} k^{\\mu} k_{\\mu}\\left(k\\right)+i c_{-1} b_{-1} c_0^- | k, \\downarrow \\downarrow \\rangle \\sqrt{\\frac{1}{2}\\alpha'} k^{\\mu} t_{\\mu}\\left(k\\right)+\\alpha_{-1}\\,^{\\mu} c_{-1} | k, \\downarrow \\downarrow \\rangle \\left(\\sqrt{\\frac{1}{2}\\alpha'} k^{\\nu} l_{\\mu \\nu}\\left(k\\right)+\\sqrt{\\frac{1}{2}\\alpha'} k^{\\nu} l_{\\nu \\mu}\\left(k\\right)+\\sqrt{\\frac{1}{2}\\alpha'} k_{\\mu} e\\left(k\\right)\\right)+i \\alpha_{-1}\\,^{\\mu} \\alpha_{-1}\\,^{\\nu} c_0^+ | k, \\downarrow \\downarrow \\rangle \\sqrt{\\frac{1}{2}\\alpha'} k_{\\mu} k_{\\nu}\\left(k\\right)+i \\alpha_{-1}\\,^{\\mu} \\alpha_{-1}\\,^{\\nu} c_0^- | k, \\downarrow \\downarrow \\rangle \\sqrt{\\frac{1}{2}\\alpha'} k_{\\mu} t_{\\nu}\\left(k\\right)+3c_{-1} b_{-1} c_0^- | k, \\downarrow \\downarrow \\rangle c\\left(k\\right)+3c_{-1} b_{-1} c_0^+ | k, \\downarrow \\downarrow \\rangle d\\left(k\\right)$"
      ]
     },
     "metadata": {},
     "output_type": "display_data"
    }
   ],
   "source": [
    "factor_out(QLambdat20, $\\cp, \\cs,c_{-1},c_{-2}, b_{-1}, b_{-2}, \\alpha_{-1}^{\\mu}, \\alpha_{-2}^{\\mu}, i, \\vac$);"
   ]
  },
  {
   "cell_type": "code",
   "execution_count": null,
   "id": "50b48429-d962-4a7b-858a-6b06363cb289",
   "metadata": {},
   "outputs": [],
   "source": []
  },
  {
   "cell_type": "code",
   "execution_count": null,
   "id": "ec6bb0f2-4571-43e4-bc59-d379aeafe666",
   "metadata": {},
   "outputs": [],
   "source": []
  }
 ],
 "metadata": {
  "kernelspec": {
   "display_name": "Cadabra2",
   "language": "python",
   "name": "cadabra2"
  },
  "language_info": {
   "codemirror_mode": "cadabra",
   "file_extension": ".ipynb",
   "mimetype": "text/cadabra",
   "name": "cadabra2",
   "pygments_lexer": "cadabra"
  },
  "toc-showmarkdowntxt": false
 },
 "nbformat": 4,
 "nbformat_minor": 5
}
